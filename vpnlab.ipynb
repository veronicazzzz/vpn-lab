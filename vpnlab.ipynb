{
  "nbformat": 4,
  "nbformat_minor": 0,
  "metadata": {
    "colab": {
      "name": "vpnlab.ipynb",
      "provenance": [],
      "collapsed_sections": []
    },
    "kernelspec": {
      "name": "python3",
      "display_name": "Python 3"
    },
    "language_info": {
      "name": "python"
    }
  },
  "cells": [
    {
      "cell_type": "code",
      "execution_count": 2,
      "metadata": {
        "colab": {
          "base_uri": "https://localhost:8080/",
          "height": 494
        },
        "id": "PMH8jwmeCM8S",
        "outputId": "24c056a2-7556-4c26-8fb1-5ecbcd865da6"
      },
      "outputs": [
        {
          "output_type": "stream",
          "name": "stdout",
          "text": [
            "Collecting nfstream\n",
            "  Downloading nfstream-6.4.3-cp37-cp37m-manylinux1_x86_64.whl (2.0 MB)\n",
            "\u001b[K     |████████████████████████████████| 2.0 MB 15.0 MB/s \n",
            "\u001b[?25hRequirement already satisfied: cffi>=1.14.6 in /usr/local/lib/python3.7/dist-packages (from nfstream) (1.15.0)\n",
            "Requirement already satisfied: numpy>=1.19.5 in /usr/local/lib/python3.7/dist-packages (from nfstream) (1.21.5)\n",
            "Requirement already satisfied: pandas>=1.1.5 in /usr/local/lib/python3.7/dist-packages (from nfstream) (1.3.5)\n",
            "Collecting dpkt>=1.9.7\n",
            "  Downloading dpkt-1.9.7.2-py3-none-any.whl (181 kB)\n",
            "\u001b[K     |████████████████████████████████| 181 kB 60.1 MB/s \n",
            "\u001b[?25hCollecting psutil>=5.8.0\n",
            "  Downloading psutil-5.9.0-cp37-cp37m-manylinux_2_12_x86_64.manylinux2010_x86_64.manylinux_2_17_x86_64.manylinux2014_x86_64.whl (280 kB)\n",
            "\u001b[K     |████████████████████████████████| 280 kB 44.0 MB/s \n",
            "\u001b[?25hRequirement already satisfied: pycparser in /usr/local/lib/python3.7/dist-packages (from cffi>=1.14.6->nfstream) (2.21)\n",
            "Requirement already satisfied: python-dateutil>=2.7.3 in /usr/local/lib/python3.7/dist-packages (from pandas>=1.1.5->nfstream) (2.8.2)\n",
            "Requirement already satisfied: pytz>=2017.3 in /usr/local/lib/python3.7/dist-packages (from pandas>=1.1.5->nfstream) (2018.9)\n",
            "Requirement already satisfied: six>=1.5 in /usr/local/lib/python3.7/dist-packages (from python-dateutil>=2.7.3->pandas>=1.1.5->nfstream) (1.15.0)\n",
            "Installing collected packages: psutil, dpkt, nfstream\n",
            "  Attempting uninstall: psutil\n",
            "    Found existing installation: psutil 5.4.8\n",
            "    Uninstalling psutil-5.4.8:\n",
            "      Successfully uninstalled psutil-5.4.8\n",
            "Successfully installed dpkt-1.9.7.2 nfstream-6.4.3 psutil-5.9.0\n"
          ]
        },
        {
          "output_type": "display_data",
          "data": {
            "application/vnd.colab-display-data+json": {
              "pip_warning": {
                "packages": [
                  "psutil"
                ]
              }
            }
          },
          "metadata": {}
        }
      ],
      "source": [
        "!pip install nfstream"
      ]
    },
    {
      "cell_type": "code",
      "source": [
        "from google.colab import drive\n",
        "drive.mount('/content/drive')"
      ],
      "metadata": {
        "colab": {
          "base_uri": "https://localhost:8080/"
        },
        "id": "dqdaP0P9CbEf",
        "outputId": "13222b36-76a3-4ff6-da12-88cbf85a7ca8"
      },
      "execution_count": 1,
      "outputs": [
        {
          "output_type": "stream",
          "name": "stdout",
          "text": [
            "Mounted at /content/drive\n"
          ]
        }
      ]
    },
    {
      "cell_type": "code",
      "source": [
        "from nfstream import NFStreamer, NFPlugin\n",
        "import pandas as pd\n",
        "import pickle\n",
        "from datetime import datetime\n",
        "from sklearn.ensemble import RandomForestClassifier"
      ],
      "metadata": {
        "id": "gsBMON43CgdN"
      },
      "execution_count": 3,
      "outputs": []
    },
    {
      "cell_type": "code",
      "source": [
        "class Packet40Counter(NFPlugin):\n",
        "  def on_init(self, pkt, flow):\n",
        "    if pkt.ip_size == 40:\n",
        "      flow.udps.packet_with_40_ip_size = 1\n",
        "    else:\n",
        "      flow.udps.packet_with_40_ip_size = 0\n",
        "    \n",
        "  def on_ipdate(self, pkt, flow):\n",
        "    if pkt.ip_size == 40:\n",
        "      flow.udps.packet_with_40_ip_size += 1\n",
        "\n",
        "col_list = ['src_ip',\n",
        "            'dst_ip',\n",
        "            'bidirectional_packets',\n",
        "            'bidirectional_bytes',\n",
        "            'application_name',\n",
        "            'application_category_name']\n",
        "train_col_list = ['bidirectional_packets', 'bidirectional_bytes']\n",
        "\n",
        "#1\n",
        "def summary_data(filename) -> str:\n",
        "  streamer = NFStreamer(filename, udps=Packet40Counter()).to_pandas()\n",
        "  if 'VPN' in streamer['application_category_name'].unique():\n",
        "    app_bytes = streamer.groupby(['application_name',\n",
        "            'application_category_name'], as_index=False, sort=True)['bidirectional_bytes'].sum()\n",
        "    return f'Protocol and data for {filename}:\\n' + f'{app_bytes.to_markdown()}'\n",
        "  else:\n",
        "    return f'No VPN traffic detected in {filename}, only ,' + ','.join([x for x in streamer['application_name'].unique()])\n",
        "\n",
        "#2\n",
        "def print_info(filename) -> str:\n",
        "  streamer = NFStreamer(filename, udps=Packet40Counter()).to_pandas()\n",
        "  return streamer.pivot_table(index=['src_ip',\n",
        "                                   'dst_ip',\n",
        "                                   'application_name'],\n",
        "                            aggfunc='first')[['bidirectional_packets','bidirectional_bytes','application_category_name']].to_markdown()\n",
        "\n",
        "#3\n",
        "def find_start_and_end_of_attaching(filename) -> str:\n",
        "  streamer = NFStreamer(filename, udps=Packet40Counter()).to_pandas()\n",
        "  answer = \"\"\n",
        "  answer += \"Start date:\"\n",
        "  answer += datetime.fromtimestamp(streamer['bidirectional_first_seen_ms'].min()/1000.0).strftime('%Y-%m-%d %H:%M:%S')\n",
        "  answer += \"\\nEnd date:\"\n",
        "  answer += datetime.fromtimestamp(streamer['bidirectional_last_seen_ms'].max()/1000.0).strftime('%Y-%m-%d %H:%M:%S')\n",
        "  return answer\n",
        "\n",
        "#4\n",
        "def print_useful_info(filename) -> str:\n",
        "  streamer = NFStreamer(filename, udps=Packet40Counter()).to_pandas()\n",
        "  return streamer.pivot_table(index=['src_ip', 'application_name'],\n",
        "                              values='src2dst_duration_ms', aggfunc='median').to_markdown()\n",
        "\n",
        "if __name__ == '__main__':\n",
        "  print('Проверка наличия vpn трафика:\\n')\n",
        "  print(summary_data('drive/MyDrive/ipsec.pcap'))\n",
        "  print('\\n\\n')\n",
        "  print('Информация по src_ip, dst_ip и application_name:\\n')\n",
        "  print(print_info('drive/MyDrive/ipsec.pcap'))\n",
        "  print('\\n\\n')\n",
        "  print(find_start_and_end_of_attaching('drive/MyDrive/ipsec.pcap'))\n",
        "  print('\\n\\n')\n",
        "  print('Вывод полезной информации:\\n')\n",
        "  print(print_useful_info('drive/MyDrive/ipsec.pcap'))\n"
      ],
      "metadata": {
        "id": "wW1UPnA0IQuk",
        "colab": {
          "base_uri": "https://localhost:8080/"
        },
        "outputId": "266a230a-a3ea-4300-f6f4-6b7061afe117"
      },
      "execution_count": 4,
      "outputs": [
        {
          "output_type": "stream",
          "name": "stdout",
          "text": [
            "Проверка наличия vpn трафика:\n",
            "\n",
            "Protocol and data for drive/MyDrive/ipsec.pcap:\n",
            "|    | application_name   | application_category_name   |   bidirectional_bytes |\n",
            "|---:|:-------------------|:----------------------------|----------------------:|\n",
            "|  0 | DNS                | Network                     |                  3287 |\n",
            "|  1 | DNS.Google         | Advertisement               |                 21613 |\n",
            "|  2 | DNS.Google         | Cloud                       |                   890 |\n",
            "|  3 | DNS.Google         | Web                         |                 55094 |\n",
            "|  4 | DNS.GoogleServices | Web                         |                 11897 |\n",
            "|  5 | DNS.YouTube        | Media                       |                 84112 |\n",
            "|  6 | ICMP               | Network                     |                  1962 |\n",
            "|  7 | IPsec              | VPN                         |              51865351 |\n",
            "|  8 | LLMNR              | Network                     |                   888 |\n",
            "|  9 | MDNS               | Network                     |                  1920 |\n",
            "| 10 | NetBIOS            | System                      |                  4742 |\n",
            "\n",
            "\n",
            "\n",
            "Информация по src_ip, dst_ip и application_name:\n",
            "\n",
            "|                                                          |   bidirectional_packets |   bidirectional_bytes | application_category_name   |\n",
            "|:---------------------------------------------------------|------------------------:|----------------------:|:----------------------------|\n",
            "| ('192.168.75.1', '192.168.75.2', 'NetBIOS')              |                       4 |                   440 | System                      |\n",
            "| ('192.168.75.1', '224.0.0.251', 'MDNS')                  |                      12 |                   840 | Network                     |\n",
            "| ('192.168.75.1', '224.0.0.252', 'LLMNR')                 |                       2 |                   128 | Network                     |\n",
            "| ('192.168.75.128', '159.203.14.174', 'IPsec')            |                   46355 |              51865351 | VPN                         |\n",
            "| ('192.168.75.128', '192.168.75.2', 'DNS')                |                       2 |                   606 | Network                     |\n",
            "| ('192.168.75.128', '192.168.75.2', 'DNS.Google')         |                       2 |                   434 | Web                         |\n",
            "| ('192.168.75.128', '192.168.75.2', 'DNS.GoogleServices') |                       2 |                   431 | Web                         |\n",
            "| ('192.168.75.128', '192.168.75.2', 'DNS.YouTube')        |                       2 |                   475 | Media                       |\n",
            "| ('192.168.75.128', '192.168.75.2', 'NetBIOS')            |                      15 |                  1542 | System                      |\n",
            "| ('192.168.75.128', '192.168.75.255', 'NetBIOS')          |                      30 |                  2760 | System                      |\n",
            "| ('192.168.75.2', '192.168.75.128', 'ICMP')               |                      15 |                  1962 | Network                     |\n",
            "| ('fe80::c43b:78f0:882b:ca43', 'ff02::1:3', 'LLMNR')      |                       2 |                   168 | Network                     |\n",
            "| ('fe80::c43b:78f0:882b:ca43', 'ff02::fb', 'MDNS')        |                      12 |                  1080 | Network                     |\n",
            "\n",
            "\n",
            "\n",
            "Start date:2022-04-11 08:20:33\n",
            "End date:2022-04-11 08:22:07\n",
            "\n",
            "\n",
            "\n",
            "Вывод полезной информации:\n",
            "\n",
            "|                                          |   src2dst_duration_ms |\n",
            "|:-----------------------------------------|----------------------:|\n",
            "| ('192.168.75.1', 'LLMNR')                |                 418   |\n",
            "| ('192.168.75.1', 'MDNS')                 |                4008   |\n",
            "| ('192.168.75.1', 'NetBIOS')              |                7304   |\n",
            "| ('192.168.75.128', 'DNS')                |                   0   |\n",
            "| ('192.168.75.128', 'DNS.Google')         |                   0   |\n",
            "| ('192.168.75.128', 'DNS.GoogleServices') |                   0   |\n",
            "| ('192.168.75.128', 'DNS.YouTube')        |                   0   |\n",
            "| ('192.168.75.128', 'IPsec')              |               87402   |\n",
            "| ('192.168.75.128', 'NetBIOS')            |               55142.5 |\n",
            "| ('192.168.75.2', 'ICMP')                 |               77087   |\n",
            "| ('fe80::c43b:78f0:882b:ca43', 'LLMNR')   |                 418   |\n",
            "| ('fe80::c43b:78f0:882b:ca43', 'MDNS')    |                4008   |\n"
          ]
        }
      ]
    },
    {
      "cell_type": "markdown",
      "source": [
        "**Отчет**"
      ],
      "metadata": {
        "id": "0k-G5AKCFJtR"
      }
    },
    {
      "cell_type": "code",
      "source": [
        "filenames = ['drive/MyDrive/ipsec.pcap', \n",
        "             'drive/MyDrive/ipsec2.pcap', \n",
        "             'drive/MyDrive/wireguard.pcap', \n",
        "             'drive/MyDrive/wireguard2.pcap', \n",
        "             'drive/MyDrive/openvpn.pcap', \n",
        "             'drive/MyDrive/openvpn2.pcap', \n",
        "             'drive/MyDrive/novpn.pcap', \n",
        "             'drive/MyDrive/wg&ovpn&novpn.pcap'] \n",
        "\n",
        "#5\n",
        "def train_model(fname):\n",
        "  streamer = NFStreamer(fname).to_pandas()\n",
        "  X = streamer[train_col_list]\n",
        "  Y = streamer[\"application_category_name\"].apply(lambda x: 1 if 'VPN' in x else 0)\n",
        "  model = RandomForestClassifier()\n",
        "  model.fit(X,Y)\n",
        "  fmodel = 'model.pkl'\n",
        "  with open(fmodel, 'wb') as file:\n",
        "    pickle.dump(model, file)\n",
        "\n",
        "def test_model(ftests, fmodel):\n",
        "  for ftest in ftests:\n",
        "    streamer = NFStreamer(ftest).to_pandas()\n",
        "    Xtest = streamer[train_col_list]\n",
        "    Ytest = streamer[\"application_category_name\"].apply(lambda x: 1 if 'VPN' in x else 0)\n",
        "    with open(fmodel, 'rb') as file:\n",
        "      model = pickle.load(file)\n",
        "    score = model.score(Xtest, Ytest)\n",
        "    print('Точность модели на файле {fname}: {modelScore}'.format(fname=ftest, modelScore=score))\n",
        "\n",
        "train_model('drive/MyDrive/wg&ovpn&novpn.pcap')\n",
        "test_model(filenames, 'model.pkl')\n",
        "#/5\n",
        "\n",
        "def create_report():\n",
        "  with open(\"drive/MyDrive/summary.md\", 'w') as md:\n",
        "    for filename in filenames:\n",
        "      md.write(\"-\" * 20 + \"\\n\\n\")\n",
        "      md.write(f\"#Отчёт {filename}\\n\\n\")\n",
        "      md.write(\"##Проверка наличия vpn трафика:\\n\" + summary_data(filename) + \"\\n\\n\")\n",
        "      md.write(\"##Информация по src_ip, dst_ip и application_name:\\n\\n\")\n",
        "      md.write(print_info(filename) + \"\\n\\n\")\n",
        "      md.write(\"##Начало и конец захвата трафика:\\n\\n\")\n",
        "      md.write(find_start_and_end_of_attaching(filename) + \"\\n\\n\")\n",
        "      md.write(\"##Вывод полезной информации:\\n\\n\")\n",
        "      md.write(print_useful_info(filename) + \"\\n\\n\")\n",
        "\n",
        "create_report()"
      ],
      "metadata": {
        "id": "aeQNjWEQFJE4",
        "colab": {
          "base_uri": "https://localhost:8080/"
        },
        "outputId": "54fdc2d9-5659-4e07-8bd3-33057f8eb2ee"
      },
      "execution_count": 5,
      "outputs": [
        {
          "output_type": "stream",
          "name": "stdout",
          "text": [
            "Точность модели на файле drive/MyDrive/ipsec.pcap: 1.0\n",
            "Точность модели на файле drive/MyDrive/ipsec2.pcap: 1.0\n",
            "Точность модели на файле drive/MyDrive/wireguard.pcap: 1.0\n",
            "Точность модели на файле drive/MyDrive/wireguard2.pcap: 1.0\n",
            "Точность модели на файле drive/MyDrive/openvpn.pcap: 1.0\n",
            "Точность модели на файле drive/MyDrive/openvpn2.pcap: 0.9444444444444444\n",
            "Точность модели на файле drive/MyDrive/novpn.pcap: 1.0\n",
            "Точность модели на файле drive/MyDrive/wg&ovpn&novpn.pcap: 1.0\n"
          ]
        }
      ]
    }
  ]
}